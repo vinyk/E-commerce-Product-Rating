{
 "cells": [
  {
   "cell_type": "code",
   "execution_count": 1,
   "metadata": {},
   "outputs": [],
   "source": [
    "#importing major libraries\n",
    "import numpy as np\n",
    "import pandas as pd\n",
    "import pandas as pd\n",
    "import nltk\n",
    "from sklearn.naive_bayes import BernoulliNB, MultinomialNB\n",
    "from sklearn.metrics import roc_auc_score, accuracy_score\n",
    "from sklearn.model_selection import train_test_split\n",
    "from nltk import sent_tokenize, word_tokenize\n",
    "from bs4 import BeautifulSoup"
   ]
  },
  {
   "cell_type": "code",
   "execution_count": 2,
   "metadata": {},
   "outputs": [],
   "source": [
    "df1 = pd.read_csv('Train_nlp.csv')\n",
    "df2 = pd.read_csv('Test_nlp.csv')"
   ]
  },
  {
   "cell_type": "code",
   "execution_count": 3,
   "metadata": {},
   "outputs": [
    {
     "data": {
      "text/html": [
       "<div>\n",
       "<style scoped>\n",
       "    .dataframe tbody tr th:only-of-type {\n",
       "        vertical-align: middle;\n",
       "    }\n",
       "\n",
       "    .dataframe tbody tr th {\n",
       "        vertical-align: top;\n",
       "    }\n",
       "\n",
       "    .dataframe thead th {\n",
       "        text-align: right;\n",
       "    }\n",
       "</style>\n",
       "<table border=\"1\" class=\"dataframe\">\n",
       "  <thead>\n",
       "    <tr style=\"text-align: right;\">\n",
       "      <th></th>\n",
       "      <th>uniq_id</th>\n",
       "      <th>product_name</th>\n",
       "      <th>manufacturer</th>\n",
       "      <th>price</th>\n",
       "      <th>number_available_in_stock</th>\n",
       "      <th>number_of_reviews</th>\n",
       "      <th>number_of_answered_questions</th>\n",
       "      <th>amazon_category_and_sub_category</th>\n",
       "      <th>customers_who_bought_this_item_also_bought</th>\n",
       "      <th>description</th>\n",
       "      <th>product_information</th>\n",
       "      <th>product_description</th>\n",
       "      <th>items_customers_buy_after_viewing_this_item</th>\n",
       "      <th>customer_questions_and_answers</th>\n",
       "      <th>customer_reviews</th>\n",
       "      <th>sellers</th>\n",
       "      <th>average_review_rating</th>\n",
       "    </tr>\n",
       "  </thead>\n",
       "  <tbody>\n",
       "    <tr>\n",
       "      <th>0</th>\n",
       "      <td>7f890f73298badd692c39c3801ef1d28</td>\n",
       "      <td>Batman - Role Play - Cowl and Batarang</td>\n",
       "      <td>Mattel</td>\n",
       "      <td>£14.99</td>\n",
       "      <td>NaN</td>\n",
       "      <td>4</td>\n",
       "      <td>1.0</td>\n",
       "      <td>Figures &amp; Playsets &gt; Science Fiction &amp; Fantasy</td>\n",
       "      <td>http://www.amazon.co.uk/Rubies-Costume-Co-Flas...</td>\n",
       "      <td>When kids aspire to be like Batman, it's easy ...</td>\n",
       "      <td>Technical Details Item Weight113 g Product Dim...</td>\n",
       "      <td>When kids aspire to be like Batman, it's easy ...</td>\n",
       "      <td>http://www.amazon.co.uk/Rubies-Costume-Co-Flas...</td>\n",
       "      <td>NaN</td>\n",
       "      <td>Item was broken // 3.0 // 2 April 2014 // By\\n...</td>\n",
       "      <td>{\"seller\"=&gt;{\"Seller_name_1\"=&gt;\"a1 Toys\", \"Selle...</td>\n",
       "      <td>4.5</td>\n",
       "    </tr>\n",
       "    <tr>\n",
       "      <th>1</th>\n",
       "      <td>83e55a2edb6c13dfc1c46d1577321b2e</td>\n",
       "      <td>Doctor Who 12-inch 50th Anniversary Collector ...</td>\n",
       "      <td>Dr Who</td>\n",
       "      <td>NaN</td>\n",
       "      <td>3 new</td>\n",
       "      <td>73</td>\n",
       "      <td>NaN</td>\n",
       "      <td>Figures &amp; Playsets &gt; Science Fiction &amp; Fantasy</td>\n",
       "      <td>http://www.amazon.co.uk/Doctor-Who-Classic-Dal...</td>\n",
       "      <td>Product Description This ultimate Doctor Who c...</td>\n",
       "      <td>Technical Details Item Weight1.4 Kg Product Di...</td>\n",
       "      <td>Product Description This ultimate Doctor Who c...</td>\n",
       "      <td>http://www.amazon.co.uk/Dr-Who-Dalek-Projectio...</td>\n",
       "      <td>NaN</td>\n",
       "      <td>A wonderful collectors piece // 5.0 // 31 Aug....</td>\n",
       "      <td>NaN</td>\n",
       "      <td>4.6</td>\n",
       "    </tr>\n",
       "    <tr>\n",
       "      <th>2</th>\n",
       "      <td>4bfaaf6558582a0f337ad59fcd51fcf7</td>\n",
       "      <td>Melissa &amp; Doug Sticker Collection - Pink</td>\n",
       "      <td>Melissa &amp; Doug</td>\n",
       "      <td>£4.76</td>\n",
       "      <td>15 new</td>\n",
       "      <td>47</td>\n",
       "      <td>1.0</td>\n",
       "      <td>Arts &amp; Crafts &gt; Paper &amp; Stickers</td>\n",
       "      <td>http://www.amazon.co.uk/Melissa-Doug-Sticker-C...</td>\n",
       "      <td>Product Description Cute couture, adorable ani...</td>\n",
       "      <td>Technical Details Item Weight299 g Product Dim...</td>\n",
       "      <td>Product Description Cute couture, adorable ani...</td>\n",
       "      <td>http://www.amazon.co.uk/Melissa-Doug-Habitats-...</td>\n",
       "      <td>NaN</td>\n",
       "      <td>Great sticker collection // 5.0 // 19 Jun. 201...</td>\n",
       "      <td>NaN</td>\n",
       "      <td>4.7</td>\n",
       "    </tr>\n",
       "    <tr>\n",
       "      <th>3</th>\n",
       "      <td>4e6702cb7fe9278f16dedc39a8808c72</td>\n",
       "      <td>Rock and Roll Cards, 30 Team</td>\n",
       "      <td>ClubKing Ltd</td>\n",
       "      <td>£4.49</td>\n",
       "      <td>2 new</td>\n",
       "      <td>2</td>\n",
       "      <td>1.0</td>\n",
       "      <td>Hobbies &gt; Trading Cards &amp; Accessories &gt; Packs ...</td>\n",
       "      <td>http://www.amazon.co.uk/ClubKing-Ltd-Football-...</td>\n",
       "      <td>1 Pack of 25 Football Cards, 30 rockstars on e...</td>\n",
       "      <td>Technical Details Item Weight100 g Product Dim...</td>\n",
       "      <td>1 Pack of 25 Football Cards, 30 rockstars on e...</td>\n",
       "      <td>http://www.amazon.co.uk/ClubKing-Ltd-Football-...</td>\n",
       "      <td>how many cards in a pack it dosn't say..?? // ...</td>\n",
       "      <td>Rock and roll cards // 5.0 // 28 July 2013 // ...</td>\n",
       "      <td>{\"seller\"=&gt;[{\"Seller_name_1\"=&gt;\"ClubKing Ltd\", ...</td>\n",
       "      <td>5.0</td>\n",
       "    </tr>\n",
       "    <tr>\n",
       "      <th>4</th>\n",
       "      <td>f505611d18b0ae98258896ae1b0f14c8</td>\n",
       "      <td>Crayola 16 Pipsqueak Glitter Glues</td>\n",
       "      <td>Crayola</td>\n",
       "      <td>£5.99</td>\n",
       "      <td>9 new</td>\n",
       "      <td>10</td>\n",
       "      <td>1.0</td>\n",
       "      <td>Characters &amp; Brands &gt; Crayola</td>\n",
       "      <td>http://www.amazon.co.uk/Crayola-3-3542-9-Glitt...</td>\n",
       "      <td>Product Description 16 Pipsqueak washable glit...</td>\n",
       "      <td>Technical Details Item Weight186 g Product Dim...</td>\n",
       "      <td>Product Description 16 Pipsqueak washable glit...</td>\n",
       "      <td>http://www.amazon.co.uk/Crayola-3-3542-9-Glitt...</td>\n",
       "      <td>NaN</td>\n",
       "      <td>Little fingers big imagination // 5.0 // 4 Mar...</td>\n",
       "      <td>{\"seller\"=&gt;[{\"Seller_name_1\"=&gt;\"BIC WAREHOUSE\",...</td>\n",
       "      <td>4.2</td>\n",
       "    </tr>\n",
       "  </tbody>\n",
       "</table>\n",
       "</div>"
      ],
      "text/plain": [
       "                            uniq_id  \\\n",
       "0  7f890f73298badd692c39c3801ef1d28   \n",
       "1  83e55a2edb6c13dfc1c46d1577321b2e   \n",
       "2  4bfaaf6558582a0f337ad59fcd51fcf7   \n",
       "3  4e6702cb7fe9278f16dedc39a8808c72   \n",
       "4  f505611d18b0ae98258896ae1b0f14c8   \n",
       "\n",
       "                                        product_name    manufacturer   price  \\\n",
       "0             Batman - Role Play - Cowl and Batarang          Mattel  £14.99   \n",
       "1  Doctor Who 12-inch 50th Anniversary Collector ...          Dr Who     NaN   \n",
       "2           Melissa & Doug Sticker Collection - Pink  Melissa & Doug   £4.76   \n",
       "3                       Rock and Roll Cards, 30 Team    ClubKing Ltd   £4.49   \n",
       "4                 Crayola 16 Pipsqueak Glitter Glues         Crayola   £5.99   \n",
       "\n",
       "  number_available_in_stock number_of_reviews  number_of_answered_questions  \\\n",
       "0                       NaN                 4                           1.0   \n",
       "1                     3 new                73                           NaN   \n",
       "2                    15 new                47                           1.0   \n",
       "3                     2 new                 2                           1.0   \n",
       "4                     9 new                10                           1.0   \n",
       "\n",
       "                    amazon_category_and_sub_category  \\\n",
       "0     Figures & Playsets > Science Fiction & Fantasy   \n",
       "1     Figures & Playsets > Science Fiction & Fantasy   \n",
       "2                   Arts & Crafts > Paper & Stickers   \n",
       "3  Hobbies > Trading Cards & Accessories > Packs ...   \n",
       "4                      Characters & Brands > Crayola   \n",
       "\n",
       "          customers_who_bought_this_item_also_bought  \\\n",
       "0  http://www.amazon.co.uk/Rubies-Costume-Co-Flas...   \n",
       "1  http://www.amazon.co.uk/Doctor-Who-Classic-Dal...   \n",
       "2  http://www.amazon.co.uk/Melissa-Doug-Sticker-C...   \n",
       "3  http://www.amazon.co.uk/ClubKing-Ltd-Football-...   \n",
       "4  http://www.amazon.co.uk/Crayola-3-3542-9-Glitt...   \n",
       "\n",
       "                                         description  \\\n",
       "0  When kids aspire to be like Batman, it's easy ...   \n",
       "1  Product Description This ultimate Doctor Who c...   \n",
       "2  Product Description Cute couture, adorable ani...   \n",
       "3  1 Pack of 25 Football Cards, 30 rockstars on e...   \n",
       "4  Product Description 16 Pipsqueak washable glit...   \n",
       "\n",
       "                                 product_information  \\\n",
       "0  Technical Details Item Weight113 g Product Dim...   \n",
       "1  Technical Details Item Weight1.4 Kg Product Di...   \n",
       "2  Technical Details Item Weight299 g Product Dim...   \n",
       "3  Technical Details Item Weight100 g Product Dim...   \n",
       "4  Technical Details Item Weight186 g Product Dim...   \n",
       "\n",
       "                                 product_description  \\\n",
       "0  When kids aspire to be like Batman, it's easy ...   \n",
       "1  Product Description This ultimate Doctor Who c...   \n",
       "2  Product Description Cute couture, adorable ani...   \n",
       "3  1 Pack of 25 Football Cards, 30 rockstars on e...   \n",
       "4  Product Description 16 Pipsqueak washable glit...   \n",
       "\n",
       "         items_customers_buy_after_viewing_this_item  \\\n",
       "0  http://www.amazon.co.uk/Rubies-Costume-Co-Flas...   \n",
       "1  http://www.amazon.co.uk/Dr-Who-Dalek-Projectio...   \n",
       "2  http://www.amazon.co.uk/Melissa-Doug-Habitats-...   \n",
       "3  http://www.amazon.co.uk/ClubKing-Ltd-Football-...   \n",
       "4  http://www.amazon.co.uk/Crayola-3-3542-9-Glitt...   \n",
       "\n",
       "                      customer_questions_and_answers  \\\n",
       "0                                                NaN   \n",
       "1                                                NaN   \n",
       "2                                                NaN   \n",
       "3  how many cards in a pack it dosn't say..?? // ...   \n",
       "4                                                NaN   \n",
       "\n",
       "                                    customer_reviews  \\\n",
       "0  Item was broken // 3.0 // 2 April 2014 // By\\n...   \n",
       "1  A wonderful collectors piece // 5.0 // 31 Aug....   \n",
       "2  Great sticker collection // 5.0 // 19 Jun. 201...   \n",
       "3  Rock and roll cards // 5.0 // 28 July 2013 // ...   \n",
       "4  Little fingers big imagination // 5.0 // 4 Mar...   \n",
       "\n",
       "                                             sellers  average_review_rating  \n",
       "0  {\"seller\"=>{\"Seller_name_1\"=>\"a1 Toys\", \"Selle...                    4.5  \n",
       "1                                                NaN                    4.6  \n",
       "2                                                NaN                    4.7  \n",
       "3  {\"seller\"=>[{\"Seller_name_1\"=>\"ClubKing Ltd\", ...                    5.0  \n",
       "4  {\"seller\"=>[{\"Seller_name_1\"=>\"BIC WAREHOUSE\",...                    4.2  "
      ]
     },
     "execution_count": 3,
     "metadata": {},
     "output_type": "execute_result"
    }
   ],
   "source": [
    "df1.head()"
   ]
  },
  {
   "cell_type": "code",
   "execution_count": 4,
   "metadata": {},
   "outputs": [
    {
     "data": {
      "text/html": [
       "<div>\n",
       "<style scoped>\n",
       "    .dataframe tbody tr th:only-of-type {\n",
       "        vertical-align: middle;\n",
       "    }\n",
       "\n",
       "    .dataframe tbody tr th {\n",
       "        vertical-align: top;\n",
       "    }\n",
       "\n",
       "    .dataframe thead th {\n",
       "        text-align: right;\n",
       "    }\n",
       "</style>\n",
       "<table border=\"1\" class=\"dataframe\">\n",
       "  <thead>\n",
       "    <tr style=\"text-align: right;\">\n",
       "      <th></th>\n",
       "      <th>uniq_id</th>\n",
       "      <th>product_name</th>\n",
       "      <th>manufacturer</th>\n",
       "      <th>price</th>\n",
       "      <th>number_available_in_stock</th>\n",
       "      <th>number_of_reviews</th>\n",
       "      <th>number_of_answered_questions</th>\n",
       "      <th>amazon_category_and_sub_category</th>\n",
       "      <th>customers_who_bought_this_item_also_bought</th>\n",
       "      <th>description</th>\n",
       "      <th>product_information</th>\n",
       "      <th>product_description</th>\n",
       "      <th>items_customers_buy_after_viewing_this_item</th>\n",
       "      <th>customer_questions_and_answers</th>\n",
       "      <th>customer_reviews</th>\n",
       "      <th>sellers</th>\n",
       "    </tr>\n",
       "  </thead>\n",
       "  <tbody>\n",
       "    <tr>\n",
       "      <th>0</th>\n",
       "      <td>90093bd02c6d5ce6d6c8f2e2af411fc1</td>\n",
       "      <td>Dolls House Miniature Cats x2</td>\n",
       "      <td>Heidi Ott</td>\n",
       "      <td>£12.00</td>\n",
       "      <td>NaN</td>\n",
       "      <td>1</td>\n",
       "      <td>1.0</td>\n",
       "      <td>Dolls &amp; Accessories &gt; Dolls' House Dolls &amp; Acc...</td>\n",
       "      <td>NaN</td>\n",
       "      <td>A pair of dolls house miniature cats. This 1/1...</td>\n",
       "      <td>Technical Details Item Weight5 g Product Dimen...</td>\n",
       "      <td>A pair of dolls house miniature cats. This 1/1...</td>\n",
       "      <td>NaN</td>\n",
       "      <td>NaN</td>\n",
       "      <td>Dolls house miniatures // 5.0 // 9 Jan. 2013 /...</td>\n",
       "      <td>{\"seller\"=&gt;{\"Seller_name_1\"=&gt;\"1 12 Dollshouses...</td>\n",
       "    </tr>\n",
       "    <tr>\n",
       "      <th>1</th>\n",
       "      <td>8dec13104fd4d1ad3ad5d9ff2af9ca0b</td>\n",
       "      <td>Disney Princess T7561 Tangled Rapunzel's Gondo...</td>\n",
       "      <td>Disney Princess</td>\n",
       "      <td>NaN</td>\n",
       "      <td>5 new</td>\n",
       "      <td>15</td>\n",
       "      <td>4.0</td>\n",
       "      <td>Characters &amp; Brands &gt; Disney &gt; Toys</td>\n",
       "      <td>http://www.amazon.co.uk/Disney-Princess-Y0942-...</td>\n",
       "      <td>Product Description Relive the romantic moment...</td>\n",
       "      <td>Technical Details Item Weight907 g Product Dim...</td>\n",
       "      <td>Product Description Relive the romantic moment...</td>\n",
       "      <td>http://www.amazon.co.uk/Disney-Princess-Y0942-...</td>\n",
       "      <td>NaN</td>\n",
       "      <td>Tangled // 4.0 // 16 May 2011 // By\\n    \\n   ...</td>\n",
       "      <td>{\"seller\"=&gt;[{\"Seller_name_1\"=&gt;\"Anita Mall\", \"S...</td>\n",
       "    </tr>\n",
       "    <tr>\n",
       "      <th>2</th>\n",
       "      <td>0fcde78856668c1563f54650b17620e7</td>\n",
       "      <td>My Pirate Party Music CD</td>\n",
       "      <td>Unknown</td>\n",
       "      <td>£4.99</td>\n",
       "      <td>1 used</td>\n",
       "      <td>6</td>\n",
       "      <td>1.0</td>\n",
       "      <td>Figures &amp; Playsets &gt; Pirates</td>\n",
       "      <td>http://www.amazon.co.uk/Pirate-Pencils-Childre...</td>\n",
       "      <td>Set the atmosphere for your Pirate themed part...</td>\n",
       "      <td>Technical Details Manufacturer recommended age...</td>\n",
       "      <td>Set the atmosphere for your Pirate themed part...</td>\n",
       "      <td>http://www.amazon.co.uk/Jake-And-The-Neverland...</td>\n",
       "      <td>NaN</td>\n",
       "      <td>Okay but that's all // 1.0 // 11 July 2011 // ...</td>\n",
       "      <td>{\"seller\"=&gt;{\"Seller_name_1\"=&gt;\"BuzzBase\", \"Sell...</td>\n",
       "    </tr>\n",
       "    <tr>\n",
       "      <th>3</th>\n",
       "      <td>69a9becbd60381a4eb7cdafe30761ee4</td>\n",
       "      <td>1ST BIRTHDAY BANNER GIRL (BGC HOLOGRAPHIC) 9FT...</td>\n",
       "      <td>Every-occasion-party-supplies</td>\n",
       "      <td>£1.49</td>\n",
       "      <td>5 new</td>\n",
       "      <td>22</td>\n",
       "      <td>1.0</td>\n",
       "      <td>Party Supplies &gt; Banners, Stickers &amp; Confetti ...</td>\n",
       "      <td>http://www.amazon.co.uk/1ST-BIRTHDAY-GIRL-PINK...</td>\n",
       "      <td>12ft long</td>\n",
       "      <td>Technical Details Manufacturer recommended age...</td>\n",
       "      <td>12ft long</td>\n",
       "      <td>http://www.amazon.co.uk/12ft-Foil-Ladybird-Bir...</td>\n",
       "      <td>NaN</td>\n",
       "      <td>Good quality but take down carefully as the fo...</td>\n",
       "      <td>NaN</td>\n",
       "    </tr>\n",
       "    <tr>\n",
       "      <th>4</th>\n",
       "      <td>18bc8b988f43f352b946a253642e1c6e</td>\n",
       "      <td>Beavis and Butt-Head Great Cornholio Bobble Head</td>\n",
       "      <td>Beavis And Butt-Head</td>\n",
       "      <td>£84.43</td>\n",
       "      <td>NaN</td>\n",
       "      <td>1</td>\n",
       "      <td>1.0</td>\n",
       "      <td>Hobbies &gt; Collectible Figures &amp; Memorabilia &gt; ...</td>\n",
       "      <td>NaN</td>\n",
       "      <td>From the Beavis and Butt-Head TV series comes ...</td>\n",
       "      <td>Technical Details Item Weight159 g Product Dim...</td>\n",
       "      <td>From the Beavis and Butt-Head TV series comes ...</td>\n",
       "      <td>NaN</td>\n",
       "      <td>NaN</td>\n",
       "      <td>hilarious // 5.0 // 11 Dec. 2013 // By\\n    \\n...</td>\n",
       "      <td>{\"seller\"=&gt;{\"Seller_name_1\"=&gt;\"M and N Media US...</td>\n",
       "    </tr>\n",
       "  </tbody>\n",
       "</table>\n",
       "</div>"
      ],
      "text/plain": [
       "                            uniq_id  \\\n",
       "0  90093bd02c6d5ce6d6c8f2e2af411fc1   \n",
       "1  8dec13104fd4d1ad3ad5d9ff2af9ca0b   \n",
       "2  0fcde78856668c1563f54650b17620e7   \n",
       "3  69a9becbd60381a4eb7cdafe30761ee4   \n",
       "4  18bc8b988f43f352b946a253642e1c6e   \n",
       "\n",
       "                                        product_name  \\\n",
       "0                      Dolls House Miniature Cats x2   \n",
       "1  Disney Princess T7561 Tangled Rapunzel's Gondo...   \n",
       "2                           My Pirate Party Music CD   \n",
       "3  1ST BIRTHDAY BANNER GIRL (BGC HOLOGRAPHIC) 9FT...   \n",
       "4   Beavis and Butt-Head Great Cornholio Bobble Head   \n",
       "\n",
       "                    manufacturer   price number_available_in_stock  \\\n",
       "0                      Heidi Ott  £12.00                       NaN   \n",
       "1                Disney Princess     NaN                     5 new   \n",
       "2                        Unknown   £4.99                    1 used   \n",
       "3  Every-occasion-party-supplies   £1.49                     5 new   \n",
       "4           Beavis And Butt-Head  £84.43                       NaN   \n",
       "\n",
       "   number_of_reviews  number_of_answered_questions  \\\n",
       "0                  1                           1.0   \n",
       "1                 15                           4.0   \n",
       "2                  6                           1.0   \n",
       "3                 22                           1.0   \n",
       "4                  1                           1.0   \n",
       "\n",
       "                    amazon_category_and_sub_category  \\\n",
       "0  Dolls & Accessories > Dolls' House Dolls & Acc...   \n",
       "1                Characters & Brands > Disney > Toys   \n",
       "2                       Figures & Playsets > Pirates   \n",
       "3  Party Supplies > Banners, Stickers & Confetti ...   \n",
       "4  Hobbies > Collectible Figures & Memorabilia > ...   \n",
       "\n",
       "          customers_who_bought_this_item_also_bought  \\\n",
       "0                                                NaN   \n",
       "1  http://www.amazon.co.uk/Disney-Princess-Y0942-...   \n",
       "2  http://www.amazon.co.uk/Pirate-Pencils-Childre...   \n",
       "3  http://www.amazon.co.uk/1ST-BIRTHDAY-GIRL-PINK...   \n",
       "4                                                NaN   \n",
       "\n",
       "                                         description  \\\n",
       "0  A pair of dolls house miniature cats. This 1/1...   \n",
       "1  Product Description Relive the romantic moment...   \n",
       "2  Set the atmosphere for your Pirate themed part...   \n",
       "3                                          12ft long   \n",
       "4  From the Beavis and Butt-Head TV series comes ...   \n",
       "\n",
       "                                 product_information  \\\n",
       "0  Technical Details Item Weight5 g Product Dimen...   \n",
       "1  Technical Details Item Weight907 g Product Dim...   \n",
       "2  Technical Details Manufacturer recommended age...   \n",
       "3  Technical Details Manufacturer recommended age...   \n",
       "4  Technical Details Item Weight159 g Product Dim...   \n",
       "\n",
       "                                 product_description  \\\n",
       "0  A pair of dolls house miniature cats. This 1/1...   \n",
       "1  Product Description Relive the romantic moment...   \n",
       "2  Set the atmosphere for your Pirate themed part...   \n",
       "3                                          12ft long   \n",
       "4  From the Beavis and Butt-Head TV series comes ...   \n",
       "\n",
       "         items_customers_buy_after_viewing_this_item  \\\n",
       "0                                                NaN   \n",
       "1  http://www.amazon.co.uk/Disney-Princess-Y0942-...   \n",
       "2  http://www.amazon.co.uk/Jake-And-The-Neverland...   \n",
       "3  http://www.amazon.co.uk/12ft-Foil-Ladybird-Bir...   \n",
       "4                                                NaN   \n",
       "\n",
       "  customer_questions_and_answers  \\\n",
       "0                            NaN   \n",
       "1                            NaN   \n",
       "2                            NaN   \n",
       "3                            NaN   \n",
       "4                            NaN   \n",
       "\n",
       "                                    customer_reviews  \\\n",
       "0  Dolls house miniatures // 5.0 // 9 Jan. 2013 /...   \n",
       "1  Tangled // 4.0 // 16 May 2011 // By\\n    \\n   ...   \n",
       "2  Okay but that's all // 1.0 // 11 July 2011 // ...   \n",
       "3  Good quality but take down carefully as the fo...   \n",
       "4  hilarious // 5.0 // 11 Dec. 2013 // By\\n    \\n...   \n",
       "\n",
       "                                             sellers  \n",
       "0  {\"seller\"=>{\"Seller_name_1\"=>\"1 12 Dollshouses...  \n",
       "1  {\"seller\"=>[{\"Seller_name_1\"=>\"Anita Mall\", \"S...  \n",
       "2  {\"seller\"=>{\"Seller_name_1\"=>\"BuzzBase\", \"Sell...  \n",
       "3                                                NaN  \n",
       "4  {\"seller\"=>{\"Seller_name_1\"=>\"M and N Media US...  "
      ]
     },
     "execution_count": 4,
     "metadata": {},
     "output_type": "execute_result"
    }
   ],
   "source": [
    "df2.head()"
   ]
  },
  {
   "cell_type": "code",
   "execution_count": 5,
   "metadata": {},
   "outputs": [
    {
     "data": {
      "text/plain": [
       "Oxford Diecast                 126\n",
       "LEGO                           119\n",
       "Disney                         118\n",
       "Playmobil                       95\n",
       "Mattel                          93\n",
       "                              ... \n",
       "Ganz USA LLC                     1\n",
       "Glitter Tattoo Starter Kits      1\n",
       "Noris                            1\n",
       "Ever After High                  1\n",
       "Puzzler Media Ltd                1\n",
       "Name: manufacturer, Length: 2254, dtype: int64"
      ]
     },
     "execution_count": 5,
     "metadata": {},
     "output_type": "execute_result"
    }
   ],
   "source": [
    "df1.manufacturer.value_counts()"
   ]
  },
  {
   "cell_type": "code",
   "execution_count": 6,
   "metadata": {},
   "outputs": [
    {
     "data": {
      "text/plain": [
       "5.0    3870\n",
       "4.0     999\n",
       "4.5     538\n",
       "4.8     425\n",
       "4.7     389\n",
       "4.3     299\n",
       "4.6     282\n",
       "4.4     234\n",
       "4.9     173\n",
       "4.2     159\n",
       "4.1     106\n",
       "3.9       3\n",
       "3.3       2\n",
       "3.6       2\n",
       "3.5       2\n",
       "3.7       2\n",
       "3.0       1\n",
       "Name: average_review_rating, dtype: int64"
      ]
     },
     "execution_count": 6,
     "metadata": {},
     "output_type": "execute_result"
    }
   ],
   "source": [
    "df1.average_review_rating.value_counts() #checking the frequency of each review point"
   ]
  },
  {
   "cell_type": "code",
   "execution_count": 9,
   "metadata": {},
   "outputs": [
    {
     "data": {
      "text/plain": [
       "uniq_id                                           0\n",
       "product_name                                      0\n",
       "manufacturer                                      5\n",
       "price                                          1069\n",
       "number_available_in_stock                      1899\n",
       "number_of_reviews                                 0\n",
       "number_of_answered_questions                    577\n",
       "amazon_category_and_sub_category                486\n",
       "customers_who_bought_this_item_also_bought      821\n",
       "description                                     473\n",
       "product_information                              45\n",
       "product_description                             473\n",
       "items_customers_buy_after_viewing_this_item    2307\n",
       "customer_questions_and_answers                 6817\n",
       "customer_reviews                                  3\n",
       "sellers                                        2314\n",
       "average_review_rating                             0\n",
       "dtype: int64"
      ]
     },
     "execution_count": 9,
     "metadata": {},
     "output_type": "execute_result"
    }
   ],
   "source": [
    "#checking for null values\n",
    "df1.isna().sum()"
   ]
  },
  {
   "cell_type": "code",
   "execution_count": 10,
   "metadata": {},
   "outputs": [
    {
     "data": {
      "text/plain": [
       "uniq_id                                           0\n",
       "product_name                                      0\n",
       "manufacturer                                      2\n",
       "price                                           363\n",
       "number_available_in_stock                       598\n",
       "number_of_reviews                                 0\n",
       "number_of_answered_questions                    187\n",
       "amazon_category_and_sub_category                198\n",
       "customers_who_bought_this_item_also_bought      241\n",
       "description                                     174\n",
       "product_information                              13\n",
       "product_description                             174\n",
       "items_customers_buy_after_viewing_this_item     751\n",
       "customer_questions_and_answers                 2252\n",
       "customer_reviews                                  0\n",
       "sellers                                         766\n",
       "dtype: int64"
      ]
     },
     "execution_count": 10,
     "metadata": {},
     "output_type": "execute_result"
    }
   ],
   "source": [
    "df2.isna().sum()"
   ]
  },
  {
   "cell_type": "code",
   "execution_count": 12,
   "metadata": {},
   "outputs": [
    {
     "data": {
      "text/plain": [
       "(7486, 17)"
      ]
     },
     "execution_count": 12,
     "metadata": {},
     "output_type": "execute_result"
    }
   ],
   "source": [
    "df1.shape"
   ]
  },
  {
   "cell_type": "code",
   "execution_count": 13,
   "metadata": {},
   "outputs": [
    {
     "data": {
      "text/plain": [
       "(2496, 16)"
      ]
     },
     "execution_count": 13,
     "metadata": {},
     "output_type": "execute_result"
    }
   ],
   "source": [
    "df2.shape"
   ]
  },
  {
   "cell_type": "code",
   "execution_count": 14,
   "metadata": {},
   "outputs": [],
   "source": [
    "#dropping null values from training set\n",
    "df1.dropna(inplace = True)"
   ]
  },
  {
   "cell_type": "code",
   "execution_count": 16,
   "metadata": {},
   "outputs": [
    {
     "data": {
      "text/plain": [
       "(389, 17)"
      ]
     },
     "execution_count": 16,
     "metadata": {},
     "output_type": "execute_result"
    }
   ],
   "source": [
    "df1.shape"
   ]
  },
  {
   "cell_type": "code",
   "execution_count": 23,
   "metadata": {},
   "outputs": [],
   "source": [
    "import re\n",
    "def cleaning_data(raw_text, remove_stopwords=False, stemming=False, split_text=False ):\n",
    "    \n",
    "    text = BeautifulSoup(raw_text, 'lxml').get_text()  #remove html\n",
    "    letters_only = re.sub(\"[^a-zA-Z]\", \" \", text)  # remove non-character\n",
    "    words = letters_only.lower().split() # convert to lower case \n",
    "    \n",
    "    if remove_stopwords: # remove stopword\n",
    "        stops = set(stopwords.words(\"english\"))\n",
    "        words = [w for w in words if not w in stops]\n",
    "        \n",
    "    if stemming==True: # stemming\n",
    "#         stemmer = PorterStemmer()\n",
    "        stemmer = SnowballStemmer('english') \n",
    "        words = [stemmer.stem(w) for w in words]\n",
    "        \n",
    "    if split_text==True:  # split text\n",
    "        return (words)\n",
    "    \n",
    "    return( \" \".join(words)) "
   ]
  },
  {
   "cell_type": "code",
   "execution_count": 19,
   "metadata": {},
   "outputs": [],
   "source": [
    "#train test split, using customer reviews as the parameter to train the model\n",
    "X_train, X_test, y_train, y_test = train_test_split(df1['customer_reviews'], df1['average_review_rating'],test_size=0.2, random_state=42)"
   ]
  },
  {
   "cell_type": "code",
   "execution_count": 24,
   "metadata": {},
   "outputs": [],
   "source": [
    "#preprocessing text data and cleaning \n",
    "X_train_clean = []\n",
    "X_test_clean = []\n",
    "\n",
    "for d in X_train:\n",
    "    X_train_clean.append(cleaning_data(d))\n",
    "\n",
    "for d in X_test:\n",
    "    X_test_clean.append(cleaning_data(d))"
   ]
  },
  {
   "cell_type": "code",
   "execution_count": 25,
   "metadata": {},
   "outputs": [
    {
     "data": {
      "text/plain": [
       "'five stars oct by mr r jobson on oct exactly as described and delivered very quickly five stars aug by louise on aug brilliant delivery and good quality product'"
      ]
     },
     "execution_count": 25,
     "metadata": {},
     "output_type": "execute_result"
    }
   ],
   "source": [
    "X_train_clean[5]"
   ]
  },
  {
   "cell_type": "code",
   "execution_count": 26,
   "metadata": {},
   "outputs": [],
   "source": [
    "#count vectorizer\n",
    "from sklearn.feature_extraction.text import CountVectorizer"
   ]
  },
  {
   "cell_type": "code",
   "execution_count": 27,
   "metadata": {},
   "outputs": [],
   "source": [
    "countVect = CountVectorizer() \n",
    "X_train_countVect = countVect.fit_transform(X_train_clean)"
   ]
  },
  {
   "cell_type": "code",
   "execution_count": 29,
   "metadata": {},
   "outputs": [],
   "source": [
    "from sklearn import preprocessing\n",
    "l = preprocessing.LabelEncoder()"
   ]
  },
  {
   "cell_type": "code",
   "execution_count": 31,
   "metadata": {},
   "outputs": [],
   "source": [
    "y_train_lab=l.fit_transform(y_train)"
   ]
  },
  {
   "cell_type": "code",
   "execution_count": 32,
   "metadata": {},
   "outputs": [
    {
     "data": {
      "text/plain": [
       "array([11, 11,  8,  9, 11, 11,  9, 10,  6,  4,  4, 10, 11,  5, 11,  2,  1,\n",
       "        8,  2,  8,  8,  5,  7, 11,  8,  1, 11,  8,  4,  9,  6, 11,  8,  1,\n",
       "       10,  5,  4,  9,  1,  5,  7,  3,  7,  2,  2,  7, 10,  7,  8,  6,  4,\n",
       "        1, 10,  7,  0, 11,  3, 11,  7,  6,  6,  6,  9,  1, 11, 11,  3,  9,\n",
       "        7,  6,  9,  9,  9,  8, 11, 11,  1, 11,  8, 11,  4,  8,  3,  2, 10,\n",
       "        5, 11,  8, 11,  1, 10, 11, 11,  7, 11,  8,  5,  7,  7,  7,  7,  9,\n",
       "        8,  1,  9, 11,  4,  1,  6,  4,  1,  5,  8, 10,  4,  1, 11,  5,  9,\n",
       "       11, 11,  5, 11,  6,  6, 11,  2, 11,  7, 11,  2,  6, 11,  6,  4,  4,\n",
       "        9,  8,  2,  6,  7,  6,  6,  2, 10,  7, 10, 10, 11,  8,  8, 11, 10,\n",
       "       10,  2,  1, 11, 10, 11,  4,  6,  4,  7,  9,  3,  8, 11,  7,  7,  6,\n",
       "        3, 10,  9,  1,  8, 11, 11, 11,  2, 11,  9,  8,  1,  7,  5,  8,  6,\n",
       "        5,  8,  8,  3, 11, 11, 10, 11, 11, 10,  6,  3, 11,  1, 11,  4, 11,\n",
       "        1,  7,  1,  1, 11,  9,  1, 10,  4,  6,  7,  6,  8,  6,  3,  1, 10,\n",
       "       11,  1,  4, 10, 10,  9,  4,  7,  8,  9,  4,  6, 11, 11,  1,  5,  6,\n",
       "       11,  9, 11,  9, 10,  9,  2,  5,  5,  8,  1, 11,  9,  4,  6,  7, 11,\n",
       "        2,  8,  4, 11,  1,  1,  3,  7,  6, 10,  8,  6,  8, 11,  7,  2,  7,\n",
       "        6,  9,  5, 11, 11, 10,  8, 11,  9,  6,  6,  4,  9,  4, 10,  5, 11,\n",
       "        8,  7,  5,  8,  3,  9,  5,  7,  6, 11,  7, 11, 11,  5,  4,  9,  8,\n",
       "        7,  5,  4, 11,  5], dtype=int64)"
      ]
     },
     "execution_count": 32,
     "metadata": {},
     "output_type": "execute_result"
    }
   ],
   "source": [
    "y_train_lab"
   ]
  },
  {
   "cell_type": "code",
   "execution_count": 33,
   "metadata": {},
   "outputs": [],
   "source": [
    "#applying label encoding on y_test\n",
    "y_test_lab = l.fit_transform(y_test)"
   ]
  },
  {
   "cell_type": "code",
   "execution_count": 34,
   "metadata": {},
   "outputs": [
    {
     "data": {
      "text/plain": [
       "array([ 4,  8,  0,  9,  8,  8,  4,  8,  5,  0, 11,  5, 10,  6,  3,  6, 11,\n",
       "        4, 11, 11,  7,  4,  3,  9, 11, 11,  7,  1, 10, 11, 11,  5, 11,  3,\n",
       "        6,  6, 10,  2,  4, 10,  9,  9,  9,  7, 11, 11, 10, 11,  2,  6,  4,\n",
       "       11,  1, 11, 11,  4, 11, 11, 11,  3, 11, 11,  3,  9,  9,  3,  4,  9,\n",
       "        9,  6, 11, 11,  5, 11,  8,  6,  1, 11], dtype=int64)"
      ]
     },
     "execution_count": 34,
     "metadata": {},
     "output_type": "execute_result"
    }
   ],
   "source": [
    "y_test_lab"
   ]
  },
  {
   "cell_type": "code",
   "execution_count": 35,
   "metadata": {},
   "outputs": [
    {
     "data": {
      "text/plain": [
       "MultinomialNB()"
      ]
     },
     "execution_count": 35,
     "metadata": {},
     "output_type": "execute_result"
    }
   ],
   "source": [
    "#Using Multinomial Classifier\n",
    "mnb = MultinomialNB()\n",
    "mnb.fit(X_train_countVect, y_train_lab)"
   ]
  },
  {
   "cell_type": "code",
   "execution_count": 36,
   "metadata": {},
   "outputs": [],
   "source": [
    "predictions = mnb.predict(countVect.transform(X_test_clean))"
   ]
  },
  {
   "cell_type": "code",
   "execution_count": 38,
   "metadata": {},
   "outputs": [],
   "source": [
    "prediction =l.inverse_transform(predictions)"
   ]
  },
  {
   "cell_type": "code",
   "execution_count": 39,
   "metadata": {},
   "outputs": [
    {
     "data": {
      "text/plain": [
       "array([4.6, 4.6, 4.7, 4.7, 4.7, 4.6, 4.7, 4.6, 4.6, 4.6, 4.8, 4.6, 4.6,\n",
       "       4.6, 4.3, 4.6, 4.7, 4.6, 5. , 4.7, 4.6, 4.6, 4.6, 4.6, 5. , 4.7,\n",
       "       4.6, 4.7, 4.6, 5. , 4.6, 4.7, 4.7, 4.7, 4.6, 5. , 4.6, 4.6, 4.6,\n",
       "       4.6, 4.7, 4.6, 4.6, 4.6, 4.6, 5. , 4.7, 5. , 4.8, 4.6, 4.6, 4.5,\n",
       "       4.7, 5. , 4.6, 4.3, 4.6, 4.6, 4.6, 4.6, 4.6, 4.6, 4.5, 4.3, 4.3,\n",
       "       4.6, 4.6, 4.6, 4.6, 4.6, 5. , 4.6, 4.6, 4.7, 4.7, 4.3, 4.6, 4.5])"
      ]
     },
     "execution_count": 39,
     "metadata": {},
     "output_type": "execute_result"
    }
   ],
   "source": [
    "prediction"
   ]
  },
  {
   "cell_type": "code",
   "execution_count": 42,
   "metadata": {},
   "outputs": [],
   "source": [
    "from sklearn.metrics import mean_squared_error"
   ]
  },
  {
   "cell_type": "code",
   "execution_count": 43,
   "metadata": {},
   "outputs": [],
   "source": [
    "def modelEvaluation(y_tst,pred):\n",
    "    '''\n",
    "    Print model evaluation to predicted result \n",
    "    '''\n",
    "    print (\"\\nAccuracy on validation set: {:.4f}\".format(np.sqrt(mean_squared_error(y_tst, pred))))"
   ]
  },
  {
   "cell_type": "code",
   "execution_count": 44,
   "metadata": {},
   "outputs": [
    {
     "name": "stdout",
     "output_type": "stream",
     "text": [
      "\n",
      "Accuracy on validation set: 3.1841\n"
     ]
    }
   ],
   "source": [
    "modelEvaluation(l.inverse_transform(y_test_lab),predictions)"
   ]
  },
  {
   "cell_type": "code",
   "execution_count": 45,
   "metadata": {},
   "outputs": [
    {
     "data": {
      "text/plain": [
       "uniq_id                                           0\n",
       "product_name                                      0\n",
       "manufacturer                                      2\n",
       "price                                           363\n",
       "number_available_in_stock                       598\n",
       "number_of_reviews                                 0\n",
       "number_of_answered_questions                    187\n",
       "amazon_category_and_sub_category                198\n",
       "customers_who_bought_this_item_also_bought      241\n",
       "description                                     174\n",
       "product_information                              13\n",
       "product_description                             174\n",
       "items_customers_buy_after_viewing_this_item     751\n",
       "customer_questions_and_answers                 2252\n",
       "customer_reviews                                  0\n",
       "sellers                                         766\n",
       "dtype: int64"
      ]
     },
     "execution_count": 45,
     "metadata": {},
     "output_type": "execute_result"
    }
   ],
   "source": [
    "#exploring test dataset\n",
    "df2.isna().sum()"
   ]
  },
  {
   "cell_type": "code",
   "execution_count": 47,
   "metadata": {},
   "outputs": [],
   "source": [
    "test_clean = []\n",
    "\n",
    "for d in df2['customer_reviews']:\n",
    "    test_clean .append(cleaning_data(d))"
   ]
  },
  {
   "cell_type": "code",
   "execution_count": 48,
   "metadata": {},
   "outputs": [
    {
     "data": {
      "text/plain": [
       "'so life like may by shoemaker vine voice on may very well painted and durable and so life like luke and ben just love these papo toys are of a very high quality i would recommend to anyone but were did he leave his horse it is on here can be used together with the papo horse if you like oct by bay on oct beautiful figure it is made to be mounted on the papo horse so if you choose to have the figure without the horse as i did then it comes up a little shorter than for instance the papo queen figure that we bought to go with him great toy jan by louise fenwick on jan delivery was good the product is lovely and sturdy and has a lot of detail my four year old boy loves it and i m very pleased just the job dec by amazon customer on dec whilst at hampton court my son purchased with pocket money a horse by papo and loved it so much that i decided to get him the rider a sneaky look at amazon to compare prices revealed a cheaper price hence i ordered him on the way home and it arrived a few days later my son was overjoyed when on his birthday he unwrapped the king i am now looking at archers for christmas the only down side to this range is having to buy the horse and rider separately it would be useful to have a multibuy offer on them king richard red nov by tony hey on nov exactly as advertised excellent detail quick delivery well packaged'"
      ]
     },
     "execution_count": 48,
     "metadata": {},
     "output_type": "execute_result"
    }
   ],
   "source": [
    "test_clean[10]"
   ]
  },
  {
   "cell_type": "code",
   "execution_count": 49,
   "metadata": {},
   "outputs": [],
   "source": [
    "predictions_test = mnb.predict(countVect.transform(test_clean))"
   ]
  },
  {
   "cell_type": "code",
   "execution_count": 50,
   "metadata": {},
   "outputs": [],
   "source": [
    "predictions_test = l.inverse_transform(predictions_test)"
   ]
  },
  {
   "cell_type": "code",
   "execution_count": 51,
   "metadata": {},
   "outputs": [
    {
     "data": {
      "text/plain": [
       "array([4.8, 4.6, 4.6, ..., 5. , 4.8, 4.5])"
      ]
     },
     "execution_count": 51,
     "metadata": {},
     "output_type": "execute_result"
    }
   ],
   "source": [
    "predictions_test"
   ]
  },
  {
   "cell_type": "code",
   "execution_count": 52,
   "metadata": {},
   "outputs": [],
   "source": [
    "#convert the predictions to dataframe\n",
    "predictions_test = pd.DataFrame(predictions_test)"
   ]
  },
  {
   "cell_type": "code",
   "execution_count": 53,
   "metadata": {},
   "outputs": [
    {
     "data": {
      "text/html": [
       "<div>\n",
       "<style scoped>\n",
       "    .dataframe tbody tr th:only-of-type {\n",
       "        vertical-align: middle;\n",
       "    }\n",
       "\n",
       "    .dataframe tbody tr th {\n",
       "        vertical-align: top;\n",
       "    }\n",
       "\n",
       "    .dataframe thead th {\n",
       "        text-align: right;\n",
       "    }\n",
       "</style>\n",
       "<table border=\"1\" class=\"dataframe\">\n",
       "  <thead>\n",
       "    <tr style=\"text-align: right;\">\n",
       "      <th></th>\n",
       "      <th>0</th>\n",
       "    </tr>\n",
       "  </thead>\n",
       "  <tbody>\n",
       "    <tr>\n",
       "      <th>0</th>\n",
       "      <td>4.8</td>\n",
       "    </tr>\n",
       "    <tr>\n",
       "      <th>1</th>\n",
       "      <td>4.6</td>\n",
       "    </tr>\n",
       "    <tr>\n",
       "      <th>2</th>\n",
       "      <td>4.6</td>\n",
       "    </tr>\n",
       "    <tr>\n",
       "      <th>3</th>\n",
       "      <td>4.7</td>\n",
       "    </tr>\n",
       "    <tr>\n",
       "      <th>4</th>\n",
       "      <td>4.7</td>\n",
       "    </tr>\n",
       "  </tbody>\n",
       "</table>\n",
       "</div>"
      ],
      "text/plain": [
       "     0\n",
       "0  4.8\n",
       "1  4.6\n",
       "2  4.6\n",
       "3  4.7\n",
       "4  4.7"
      ]
     },
     "execution_count": 53,
     "metadata": {},
     "output_type": "execute_result"
    }
   ],
   "source": [
    "predictions_test.head()"
   ]
  },
  {
   "cell_type": "code",
   "execution_count": 54,
   "metadata": {},
   "outputs": [],
   "source": [
    "predictions_test.index = pd.DataFrame(predictions_test).index\n",
    "predictions_test.columns = [\"prediction\"]\n",
    "predictions_test.to_csv(\"sub_NLP.csv\", index = False)"
   ]
  },
  {
   "cell_type": "code",
   "execution_count": null,
   "metadata": {},
   "outputs": [],
   "source": []
  }
 ],
 "metadata": {
  "kernelspec": {
   "display_name": "Python 3",
   "language": "python",
   "name": "python3"
  },
  "language_info": {
   "codemirror_mode": {
    "name": "ipython",
    "version": 3
   },
   "file_extension": ".py",
   "mimetype": "text/x-python",
   "name": "python",
   "nbconvert_exporter": "python",
   "pygments_lexer": "ipython3",
   "version": "3.8.5"
  }
 },
 "nbformat": 4,
 "nbformat_minor": 4
}
